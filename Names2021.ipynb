{
 "cells": [
  {
   "cell_type": "code",
   "execution_count": 2,
   "id": "17f2e384",
   "metadata": {},
   "outputs": [],
   "source": [
    "# import libraries\n",
    "import pandas as pd\n",
    "\n",
    "# convert txt files into csv files, keep original txt files\n",
    "for year in range (1880,2022):\n",
    "    y = str(year)\n",
    "    names_file = pd.read_csv(\"/Users/nicolegololobov/Documents/Programs/Names2021/yob_txt/yob\" + y + \".txt\", header=None)\n",
    "    names_file.to_csv(\"/Users/nicolegololobov/Documents/Programs/Names2021/yob_csv/yob\" + y + \".csv\", index = None)"
   ]
  },
  {
   "cell_type": "code",
   "execution_count": 62,
   "id": "b17806a8",
   "metadata": {},
   "outputs": [],
   "source": [
    "# import libraries\n",
    "import pandas as pd\n",
    "\n",
    "# read data into pandas dataframe\n",
    "names = pd.read_csv(\"/Users/nicolegololobov/Documents/Programs/Names2021/yob_csv/yob1880.csv\")\n",
    "\n",
    "# rename columns in df\n",
    "names.columns.values[0] = \"Name\"\n",
    "names.columns.values[1] = \"Gender\"\n",
    "names.columns.values[2] = \"Quantity\"\n",
    "\n",
    "# add column for year\n",
    "names['Year'] = \"1880\"\n",
    "\n",
    "# add data from the other files to df\n",
    "for year in range (1881,2022):\n",
    "    y = str(year)\n",
    "    file = \"/Users/nicolegololobov/Documents/Programs/Names2021/yob_csv/yob\" + y + \".csv\"\n",
    "    names2 = pd.read_csv(file)\n",
    "    names2.columns.values[0] = \"Name\"\n",
    "    names2.columns.values[1] = \"Gender\"\n",
    "    names2.columns.values[2] = \"Quantity\"\n",
    "    names2['Year'] = y \n",
    "    names = pd.concat([names, names2], axis=0)"
   ]
  },
  {
   "cell_type": "code",
   "execution_count": 16,
   "id": "f733eb0f",
   "metadata": {},
   "outputs": [
    {
     "data": {
      "text/html": [
       "<div>\n",
       "<style scoped>\n",
       "    .dataframe tbody tr th:only-of-type {\n",
       "        vertical-align: middle;\n",
       "    }\n",
       "\n",
       "    .dataframe tbody tr th {\n",
       "        vertical-align: top;\n",
       "    }\n",
       "\n",
       "    .dataframe thead th {\n",
       "        text-align: right;\n",
       "    }\n",
       "</style>\n",
       "<table border=\"1\" class=\"dataframe\">\n",
       "  <thead>\n",
       "    <tr style=\"text-align: right;\">\n",
       "      <th></th>\n",
       "      <th>Name</th>\n",
       "      <th>Gender</th>\n",
       "      <th>Quantity</th>\n",
       "      <th>Year</th>\n",
       "    </tr>\n",
       "  </thead>\n",
       "  <tbody>\n",
       "    <tr>\n",
       "      <th>31532</th>\n",
       "      <td>Zyeire</td>\n",
       "      <td>M</td>\n",
       "      <td>5</td>\n",
       "      <td>2021</td>\n",
       "    </tr>\n",
       "    <tr>\n",
       "      <th>31533</th>\n",
       "      <td>Zyel</td>\n",
       "      <td>M</td>\n",
       "      <td>5</td>\n",
       "      <td>2021</td>\n",
       "    </tr>\n",
       "    <tr>\n",
       "      <th>31534</th>\n",
       "      <td>Zyian</td>\n",
       "      <td>M</td>\n",
       "      <td>5</td>\n",
       "      <td>2021</td>\n",
       "    </tr>\n",
       "    <tr>\n",
       "      <th>31535</th>\n",
       "      <td>Zylar</td>\n",
       "      <td>M</td>\n",
       "      <td>5</td>\n",
       "      <td>2021</td>\n",
       "    </tr>\n",
       "    <tr>\n",
       "      <th>31536</th>\n",
       "      <td>Zyn</td>\n",
       "      <td>M</td>\n",
       "      <td>5</td>\n",
       "      <td>2021</td>\n",
       "    </tr>\n",
       "  </tbody>\n",
       "</table>\n",
       "</div>"
      ],
      "text/plain": [
       "         Name Gender  Quantity  Year\n",
       "31532  Zyeire      M         5  2021\n",
       "31533    Zyel      M         5  2021\n",
       "31534   Zyian      M         5  2021\n",
       "31535   Zylar      M         5  2021\n",
       "31536     Zyn      M         5  2021"
      ]
     },
     "execution_count": 16,
     "metadata": {},
     "output_type": "execute_result"
    }
   ],
   "source": [
    "# see last five rows of df\n",
    "names.tail()"
   ]
  },
  {
   "cell_type": "code",
   "execution_count": 90,
   "id": "e3dce2a1",
   "metadata": {},
   "outputs": [],
   "source": [
    "# return csv file that lists unique names\n",
    "first_names = names.groupby('Name', as_index=True).first()\n",
    "first_names.to_csv(\"/Users/nicolegololobov/Documents/Programs/Names2021/first_names.csv\")"
   ]
  },
  {
   "cell_type": "code",
   "execution_count": 91,
   "id": "98664cf8",
   "metadata": {},
   "outputs": [],
   "source": [
    "# return csv file that lists unique names by highest quantity\n",
    "first_names2 = names.sort_values('Quantity', ascending=False).drop_duplicates(['Name'])\n",
    "first_names2.to_csv(\"/Users/nicolegololobov/Documents/Programs/Names2021/first_names2.csv\")"
   ]
  },
  {
   "cell_type": "code",
   "execution_count": 17,
   "id": "5354cf23",
   "metadata": {},
   "outputs": [
    {
     "data": {
      "text/plain": [
       "2052781"
      ]
     },
     "execution_count": 17,
     "metadata": {},
     "output_type": "execute_result"
    }
   ],
   "source": [
    "# count rows in df\n",
    "# 2,052,781 rows\n",
    "names.shape[0]"
   ]
  },
  {
   "cell_type": "code",
   "execution_count": 40,
   "id": "6dec26c6",
   "metadata": {},
   "outputs": [
    {
     "data": {
      "text/plain": [
       "101338"
      ]
     },
     "execution_count": 40,
     "metadata": {},
     "output_type": "execute_result"
    }
   ],
   "source": [
    "# count how many unique names are in df\n",
    "# 101,338 total\n",
    "names[\"Name\"].nunique()"
   ]
  },
  {
   "cell_type": "code",
   "execution_count": null,
   "id": "7d89516a",
   "metadata": {},
   "outputs": [],
   "source": [
    "# return rows where quantity is greater than 100\n",
    "names_quantity = names[names['Quantity'] > 100]"
   ]
  },
  {
   "cell_type": "code",
   "execution_count": 104,
   "id": "42aae143",
   "metadata": {},
   "outputs": [
    {
     "data": {
      "text/html": [
       "<div>\n",
       "<style scoped>\n",
       "    .dataframe tbody tr th:only-of-type {\n",
       "        vertical-align: middle;\n",
       "    }\n",
       "\n",
       "    .dataframe tbody tr th {\n",
       "        vertical-align: top;\n",
       "    }\n",
       "\n",
       "    .dataframe thead th {\n",
       "        text-align: right;\n",
       "    }\n",
       "</style>\n",
       "<table border=\"1\" class=\"dataframe\">\n",
       "  <thead>\n",
       "    <tr style=\"text-align: right;\">\n",
       "      <th></th>\n",
       "      <th>Name</th>\n",
       "      <th>Gender</th>\n",
       "      <th>Quantity</th>\n",
       "      <th>Year</th>\n",
       "    </tr>\n",
       "  </thead>\n",
       "  <tbody>\n",
       "    <tr>\n",
       "      <th>14825</th>\n",
       "      <td>Honoka</td>\n",
       "      <td>F</td>\n",
       "      <td>6</td>\n",
       "      <td>2004</td>\n",
       "    </tr>\n",
       "    <tr>\n",
       "      <th>18185</th>\n",
       "      <td>Honoka</td>\n",
       "      <td>F</td>\n",
       "      <td>5</td>\n",
       "      <td>2006</td>\n",
       "    </tr>\n",
       "    <tr>\n",
       "      <th>11086</th>\n",
       "      <td>Honoka</td>\n",
       "      <td>F</td>\n",
       "      <td>10</td>\n",
       "      <td>2008</td>\n",
       "    </tr>\n",
       "    <tr>\n",
       "      <th>17182</th>\n",
       "      <td>Honoka</td>\n",
       "      <td>F</td>\n",
       "      <td>5</td>\n",
       "      <td>2016</td>\n",
       "    </tr>\n",
       "    <tr>\n",
       "      <th>16783</th>\n",
       "      <td>Honoka</td>\n",
       "      <td>F</td>\n",
       "      <td>5</td>\n",
       "      <td>2017</td>\n",
       "    </tr>\n",
       "    <tr>\n",
       "      <th>12929</th>\n",
       "      <td>Honoka</td>\n",
       "      <td>F</td>\n",
       "      <td>7</td>\n",
       "      <td>2019</td>\n",
       "    </tr>\n",
       "    <tr>\n",
       "      <th>16053</th>\n",
       "      <td>Honoka</td>\n",
       "      <td>F</td>\n",
       "      <td>5</td>\n",
       "      <td>2021</td>\n",
       "    </tr>\n",
       "  </tbody>\n",
       "</table>\n",
       "</div>"
      ],
      "text/plain": [
       "         Name Gender  Quantity  Year\n",
       "14825  Honoka      F         6  2004\n",
       "18185  Honoka      F         5  2006\n",
       "11086  Honoka      F        10  2008\n",
       "17182  Honoka      F         5  2016\n",
       "16783  Honoka      F         5  2017\n",
       "12929  Honoka      F         7  2019\n",
       "16053  Honoka      F         5  2021"
      ]
     },
     "execution_count": 104,
     "metadata": {},
     "output_type": "execute_result"
    }
   ],
   "source": [
    "# return rows that contain a certain name\n",
    "names_name = names[names.Name == 'Honoka']\n",
    "names_name"
   ]
  },
  {
   "cell_type": "code",
   "execution_count": 32,
   "id": "91ebf9a1",
   "metadata": {},
   "outputs": [
    {
     "data": {
      "text/html": [
       "<div>\n",
       "<style scoped>\n",
       "    .dataframe tbody tr th:only-of-type {\n",
       "        vertical-align: middle;\n",
       "    }\n",
       "\n",
       "    .dataframe tbody tr th {\n",
       "        vertical-align: top;\n",
       "    }\n",
       "\n",
       "    .dataframe thead th {\n",
       "        text-align: right;\n",
       "    }\n",
       "</style>\n",
       "<table border=\"1\" class=\"dataframe\">\n",
       "  <thead>\n",
       "    <tr style=\"text-align: right;\">\n",
       "      <th></th>\n",
       "      <th>Name</th>\n",
       "      <th>Gender</th>\n",
       "      <th>Quantity</th>\n",
       "      <th>Year</th>\n",
       "    </tr>\n",
       "  </thead>\n",
       "  <tbody>\n",
       "    <tr>\n",
       "      <th>3578</th>\n",
       "      <td>Namaari</td>\n",
       "      <td>F</td>\n",
       "      <td>43</td>\n",
       "      <td>2021</td>\n",
       "    </tr>\n",
       "    <tr>\n",
       "      <th>4042</th>\n",
       "      <td>Parklynn</td>\n",
       "      <td>F</td>\n",
       "      <td>36</td>\n",
       "      <td>2021</td>\n",
       "    </tr>\n",
       "    <tr>\n",
       "      <th>4126</th>\n",
       "      <td>Sayori</td>\n",
       "      <td>F</td>\n",
       "      <td>35</td>\n",
       "      <td>2021</td>\n",
       "    </tr>\n",
       "    <tr>\n",
       "      <th>4944</th>\n",
       "      <td>Arianelly</td>\n",
       "      <td>F</td>\n",
       "      <td>26</td>\n",
       "      <td>2021</td>\n",
       "    </tr>\n",
       "    <tr>\n",
       "      <th>5499</th>\n",
       "      <td>Sanem</td>\n",
       "      <td>F</td>\n",
       "      <td>23</td>\n",
       "      <td>2021</td>\n",
       "    </tr>\n",
       "    <tr>\n",
       "      <th>...</th>\n",
       "      <td>...</td>\n",
       "      <td>...</td>\n",
       "      <td>...</td>\n",
       "      <td>...</td>\n",
       "    </tr>\n",
       "    <tr>\n",
       "      <th>31507</th>\n",
       "      <td>Zayre</td>\n",
       "      <td>M</td>\n",
       "      <td>5</td>\n",
       "      <td>2021</td>\n",
       "    </tr>\n",
       "    <tr>\n",
       "      <th>31512</th>\n",
       "      <td>Zehaan</td>\n",
       "      <td>M</td>\n",
       "      <td>5</td>\n",
       "      <td>2021</td>\n",
       "    </tr>\n",
       "    <tr>\n",
       "      <th>31515</th>\n",
       "      <td>Zeland</td>\n",
       "      <td>M</td>\n",
       "      <td>5</td>\n",
       "      <td>2021</td>\n",
       "    </tr>\n",
       "    <tr>\n",
       "      <th>31516</th>\n",
       "      <td>Zemariam</td>\n",
       "      <td>M</td>\n",
       "      <td>5</td>\n",
       "      <td>2021</td>\n",
       "    </tr>\n",
       "    <tr>\n",
       "      <th>31525</th>\n",
       "      <td>Zhayd</td>\n",
       "      <td>M</td>\n",
       "      <td>5</td>\n",
       "      <td>2021</td>\n",
       "    </tr>\n",
       "  </tbody>\n",
       "</table>\n",
       "<p>938 rows × 4 columns</p>\n",
       "</div>"
      ],
      "text/plain": [
       "            Name Gender  Quantity  Year\n",
       "3578     Namaari      F        43  2021\n",
       "4042    Parklynn      F        36  2021\n",
       "4126      Sayori      F        35  2021\n",
       "4944   Arianelly      F        26  2021\n",
       "5499       Sanem      F        23  2021\n",
       "...          ...    ...       ...   ...\n",
       "31507      Zayre      M         5  2021\n",
       "31512     Zehaan      M         5  2021\n",
       "31515     Zeland      M         5  2021\n",
       "31516   Zemariam      M         5  2021\n",
       "31525      Zhayd      M         5  2021\n",
       "\n",
       "[938 rows x 4 columns]"
      ]
     },
     "execution_count": 32,
     "metadata": {},
     "output_type": "execute_result"
    }
   ],
   "source": [
    "# return names unique to year 2021 (only works for last year of df)\n",
    "\n",
    "# print rows of unique names, keep first example\n",
    "names_uniq = names.drop_duplicates('Name', keep='first')\n",
    "\n",
    "# print rows for a certain year\n",
    "names_uniq2021 = names_uniq[names_uniq.Year == '2021']\n",
    "names_uniq2021"
   ]
  },
  {
   "cell_type": "code",
   "execution_count": 41,
   "id": "aa736d84",
   "metadata": {},
   "outputs": [
    {
     "name": "stdout",
     "output_type": "stream",
     "text": [
      "3361375\n"
     ]
    }
   ],
   "source": [
    "# compare total born in df vs in reality\n",
    "\n",
    "# return rows for a certain year\n",
    "names_year = names[names.Year == '2021']\n",
    "names_year\n",
    "print(names_year['Quantity'].sum())\n",
    "\n",
    "# 3,361,375 in df / 3,659,289 total estimated = 91.86%"
   ]
  },
  {
   "cell_type": "code",
   "execution_count": 97,
   "id": "17e4e57e",
   "metadata": {},
   "outputs": [
    {
     "data": {
      "text/plain": [
       "5        19262\n",
       "6        12632\n",
       "7         8864\n",
       "8         6834\n",
       "9         5339\n",
       "         ...  \n",
       "1133         1\n",
       "1134         1\n",
       "1135         1\n",
       "1138         1\n",
       "99693        1\n",
       "Name: Quantity, Length: 2352, dtype: int64"
      ]
     },
     "execution_count": 97,
     "metadata": {},
     "output_type": "execute_result"
    }
   ],
   "source": [
    "# value counts for quantities\n",
    "names_by_q = names.sort_values('Quantity', ascending=False).drop_duplicates(['Name'])\n",
    "names_by_q[\"Quantity\"].value_counts()"
   ]
  },
  {
   "cell_type": "code",
   "execution_count": null,
   "id": "d8cae04a",
   "metadata": {},
   "outputs": [],
   "source": [
    "# return rows with longest names\n",
    "names_length=names[names[\"Name\"].apply(lambda x: len(x) > 14)]\n",
    "names_length"
   ]
  },
  {
   "cell_type": "code",
   "execution_count": 102,
   "id": "a8263a22",
   "metadata": {},
   "outputs": [],
   "source": [
    "# for each unique name, count total quantity across all years\n",
    "# rank by year for each gender\n",
    "# return rows with multiple conditions\n",
    "# biggest spikes or dips in popularity"
   ]
  }
 ],
 "metadata": {
  "kernelspec": {
   "display_name": "Python 3 (ipykernel)",
   "language": "python",
   "name": "python3"
  },
  "language_info": {
   "codemirror_mode": {
    "name": "ipython",
    "version": 3
   },
   "file_extension": ".py",
   "mimetype": "text/x-python",
   "name": "python",
   "nbconvert_exporter": "python",
   "pygments_lexer": "ipython3",
   "version": "3.10.9"
  }
 },
 "nbformat": 4,
 "nbformat_minor": 5
}
